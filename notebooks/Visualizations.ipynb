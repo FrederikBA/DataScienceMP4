{
 "cells": [
  {
   "cell_type": "markdown",
   "id": "71188125",
   "metadata": {},
   "source": [
    "### Wordcloud to visualize the usage of words in our trustpilot reviews."
   ]
  },
  {
   "cell_type": "code",
   "execution_count": null,
   "id": "17f3c157",
   "metadata": {},
   "outputs": [],
   "source": [
    "from wordcloud import WordCloud\n",
    "import matplotlib.pyplot as plt\n",
    "from mp_code import *\n",
    "\n",
    "reviews = get_reviews(\"https://dk.trustpilot.com/review/www.kmd.dk\")\n",
    "\n",
    "tokens = preprocess_text(reviews[1])\n",
    "text = ' '.join(tokens)\n",
    "wordcloud = WordCloud(width=800, height=800, background_color='white', min_font_size=10).generate(text)\n",
    "\n",
    "# Plot the wordcloud\n",
    "plt.figure(figsize=(8, 8), facecolor=None)\n",
    "plt.imshow(wordcloud)\n",
    "plt.axis('off')\n",
    "plt.tight_layout(pad=0)\n",
    "\n",
    "plt.show()"
   ]
  },
  {
   "cell_type": "markdown",
   "id": "816e5b8c",
   "metadata": {},
   "source": [
    "### Decision Tree graph"
   ]
  },
  {
   "cell_type": "code",
   "execution_count": null,
   "id": "4eba217a",
   "metadata": {},
   "outputs": [],
   "source": [
    "import pandas as pd\n",
    "import numpy as np\n",
    "import matplotlib.pyplot as plt\n",
    "\n",
    "# sklearn for machine learning methods\n",
    "from sklearn.tree import DecisionTreeClassifier\n",
    "from sklearn.tree import plot_tree\n",
    "\n",
    "small_company_df = pd.read_csv('../data/small_companies.csv')\n",
    "numeric_cols = small_company_df.select_dtypes(include=['number']).columns\n",
    "df_numeric = small_company_df[numeric_cols]\n",
    "\n",
    "array = df_numeric.values\n",
    "X, y = array[:, :-1], array[:, -1]\n",
    "set_prop = 0.2\n",
    "seed = 2\n",
    "X_train, X_test, y_train, y_test = model_selection.train_test_split(X, y, test_size=set_prop, random_state=seed)\n",
    "params = {'max_depth': 2}\n",
    "classifier = DecisionTreeClassifier(**params)\n",
    "classifier.fit(X_train, y_train)\n",
    "\n",
    "plt.figure(figsize=(12, 8))\n",
    "plot_tree(classifier, filled=True, feature_names=numeric_cols[:-1], class_names=True)\n",
    "plt.show()"
   ]
  },
  {
   "cell_type": "markdown",
   "id": "3df7eaa7",
   "metadata": {},
   "source": [
    "# MP4"
   ]
  },
  {
   "cell_type": "code",
   "execution_count": 1,
   "id": "b24a79ac",
   "metadata": {},
   "outputs": [],
   "source": [
    "from mp4_code import *\n",
    "from matplotlib import pyplot as plt\n",
    "import numpy as np"
   ]
  },
  {
   "cell_type": "code",
   "execution_count": null,
   "id": "2060ec79",
   "metadata": {},
   "outputs": [
    {
     "name": "stdout",
     "output_type": "stream",
     "text": [
      "negative\n",
      "Over 600 mennesker i Middelfart kommune har ikke fået udbetalt deres ydelse i går grundet en teknisk fejl fra KMDs side.Dette betyder de vil modtage rykkere, og eventuelt risikere diverse ret så ubehagelige oplevelser på grund af de ikke har fået deres ydelse og hermed ikke kan betale deres regninger.Det er i dag den 1 November og deres ydelse er fortsat ikke kommet. Fuldstændigt uacceptabelt.Har KMD tænkt sig at hæfte for rykkere? Nej vel. \n",
      " \n",
      "negative\n",
      "Jeg er desværre daglig bruger af KMD grundet mit arbejde. Det er helt vildt så dårlig KMD systemer fungerer. Der er ret mange basale ting der ikke fungerer, så som at man ikke kan kopier cpr nr. ind fra regneark ind i søgefeltet, og hver gang der kommer en opdatering bortfalder der vigtige funktioner. Det er som om de bare prøver at gøre det dårligere og dårligere. Ganske enkelt talentløst! \n",
      " \n",
      "negative\n",
      "Urimelig behandling - KMD står for at lave hjemmeside til nemrefusion - hjemmeside virker ikke igen. Skriver flere mails - ringer og ringer; men der er ikke nogen på kontoret der ønsker at svare på den ene eller anden måde. Urimelig dårlig service. \n",
      " \n",
      "neutral\n",
      "De tager ikke deres sikkerhed alvorligt. De har i 12 år haft et sikkerhedshul hvor man kunne udtrække personfølsomme oplysninger fra et af deres systemer. De bliver så gjort opmærksomme på dette sikkerhedshul og i stedet for at takke og så koncentrere sig om at lukke hullet.. så bruger de tid på at jagte budbringeren.Det har de gjort ved at politianmelde IT-konsulenten der fandt hullet. Det er efter min mening en forkastelig optræden.Dokumentation kan findes på dr.dk blandt mange andre nyhedssider. \n",
      " \n",
      "positive\n",
      "Havde givet 0 stjerner hvis man kunne. De regner med dagsfradag som om man var på efterløn, så man ender med at betale for meget i skat hver måned. De mener at de gør det \"rigtige\" i følge skat, selvom skat aldrig har hørt om det før og synes det lyder komplet åndssvagt. Skriver man til dem for at få hjæp får man ikke svar, ringer man derimod til dem kan man heller ikke få svar. Man kan kun få fat på en receptionist som ikke kan svare på noget, og som heller ikke må videre stille ved mindre du kan personens fulde navn (der er heller ikke en personaleliste på deres hjemmeside).Til sidst er deres løn app, den kan man kun komme ind på hver 10 gang man prøver, ellers bliver man mødt af diverse server/ hjemmeside fejl \n",
      " \n",
      "positive\n",
      "Goddaw KMD. Jeg har en lerdue at plukke med jer. Jeg har nemlig lagt min kommune-data i jeres skrøbelige hænder. Men hvad skete der så? Min kommune-data blev til lands-data, fordi i er nogle damn snitches. I burde investere i nogle lidt mere sikre harddisks. Min grandfætter arbejder i Silvan, han kan hooke jer op. (Med lidt af hvert) Håber I finder ud af det med dataen. 7-9-13 for det (Hvis I forstår sådan en lille en) (Hvis I ikke forstår sådan en lille en mente jeg EFI) (I ved det der skattesystem, man får ondt i milten af at tænke på)Hav en god daaaaag \n",
      " \n",
      "negative\n",
      "Inkompetente fjolser. Betale en bøde på 20 kr gennem mobilepay er urimeligt besværligt i en regn af fejlsider. Der skal vist fyres et par programmører. Hep! \n",
      " \n",
      "positive\n",
      "jeg har ventede i telefonen i mere end 40 minutter for at komme igennem til nem refusion som KMD administrere (jeg kom aldrig igennem) \n",
      " \n",
      "positive\n",
      "Det er helt ude i hampen, at KMD politianmelder en it-kyndig (Esben Warming - som jeg i øvrigt ikke kender, men har hørt om i Radio 24syv), som påpeger et sikkerhedshul (som også er helt ude i hampen i den forstand at det er helt amatøragtigt at lave en så alvorlig og basal fejl) i en af KMD's web-applikationer.Den eneste seriøse reaktion fra KMD ville være at sige undskyld til os alle og tak for hjælpen, og evt have forgyldt ham for at have reduceret risikoen for den helt store skandale for KMD - tænk hvis det en dag viste sig, at kriminelle eller en fjendtlig efterretningstjeneste havde høstet alle danske CPR-numre og relaterede data (hvad-ved-jeg).Direktøren for KMD er tydeligvis inkompetent og/eller paranoid. Under alle omstændigheder ikke for kvik...Ok, så får jeg sikkert en politianmeldelse på halsen for denne anmeldelse, hvis stilen skal holdes fra KMD's side... \n",
      " \n",
      "negative\n",
      "Det er pinligt at der ikke findes professionelle folk ansat i dette firma som kan taste korrekte data ! Inkompetent er blot fornavnet på disse personager !! \n",
      " \n",
      "positive\n",
      "Tager ikke deres sikkerhed alvorligt, og virker generelt som et firma styret af små børn. Ingen selvindsigt. \n",
      " \n",
      "neutral\n",
      "Et helt igennem dårligt firma, der på ingen måde magter deres opgaver. \n",
      " \n",
      "positive\n",
      "Vi bruger KMD produkter fra vugge til grav. Derfor har de fleste af os været i berøring med KMD eller Kommunedata, som det hed i gamle dage. Der har været mange problemstillinger, som virksomheden ikke har løst helt smart - ja flere, som er løst dårligt eller slet ikke. Seneste skud på rækken af fejlhåndteringer er, at KMD er taget med bukserne nede. Pladsanvisningssystemet viser sig gennem en lang årrække at være en CPR-søgemaskine således, at man kan indtaste et CPR-nummer manuelt eller maskinelt og modtage navn på den person, der har netop dette CPR-nummer. En vaks borger har heldigvis haft kendskab til it-sikkerhed, så han straks følte, at HER var et problem. Han checker så systemet, dokumenterer sine fund og overbringer denne - for KMD - nye viden til sin hjemkommune, Frederiksberg, der som så mange andre kommuner er abonnent på systemet. KMD skulle, som Google, Appel, Microsoft og alle de andre professionelle virksomheder ville have gjort, have modtaget info om et sikkerhedsbrud med åbne arme. KMD skulle have belønnet den vakse bruger for at finde frem til dette kæmpeproblem, som KMD selv ikke har haft evner til at teste sig frem til. Skam få KMD - også i denne sag. Jeg forstår, at Datatilsynet pusler med den model, at det er de abonnerende kommuner, der skal klandres for ikke at have sikret sig, at leverencen fra KMD var sikkerhedsmæssigt i orden. Jamen i så fald, skam på datatilsynet. En leverandør skal selvfølgelig stå inde for, at koden er i orden - ikke kun funktionelt, men også sikkerhedsmæssigt. Derfor kun en stjerne - med pil nedad. \n",
      " \n",
      "negative\n",
      "KMD's vagtplan er helt ekstrem dårligt \n",
      " \n"
     ]
    }
   ],
   "source": [
    "# Import libraries\n",
    "\n",
    "\n",
    "#To fix the crash when displaying pie chart\n",
    "#%matplotlib inline\n",
    "reviews = reviews_classification()\n",
    "\n",
    "counts = {\"positive\": 0, \"negative\": 0, \"neutral\": 0}\n",
    "for review in reviews:\n",
    "    classification = classify_review(review)\n",
    "    counts[classification] += 1\n",
    "\n",
    "\n",
    "# Create a pie chart to show the distribution of positive, negative, and neutral reviews\n",
    "labels = [\"Positive\", \"Negative\", \"Neutral\"]\n",
    "sizes = [counts[\"positive\"], counts[\"negative\"], counts[\"neutral\"]]\n",
    "plt.pie(sizes, labels=labels, autopct='%1.1f%%')\n",
    "plt.title(\"Sentiment Analysis of Reviews\")\n",
    "plt.show()\n"
   ]
  },
  {
   "cell_type": "code",
   "execution_count": null,
   "id": "b72b9234",
   "metadata": {},
   "outputs": [],
   "source": [
    "import os\n",
    "os.system('jupyter notebook')\n"
   ]
  },
  {
   "cell_type": "code",
   "execution_count": null,
   "id": "d16ab8fe",
   "metadata": {},
   "outputs": [],
   "source": []
  }
 ],
 "metadata": {
  "kernelspec": {
   "display_name": "Python 3 (ipykernel)",
   "language": "python",
   "name": "python3"
  },
  "language_info": {
   "codemirror_mode": {
    "name": "ipython",
    "version": 3
   },
   "file_extension": ".py",
   "mimetype": "text/x-python",
   "name": "python",
   "nbconvert_exporter": "python",
   "pygments_lexer": "ipython3",
   "version": "3.9.12"
  }
 },
 "nbformat": 4,
 "nbformat_minor": 5
}
